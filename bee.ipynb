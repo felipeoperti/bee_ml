{
 "cells": [
  {
   "cell_type": "markdown",
   "metadata": {},
   "source": [
    "# Bee ML\n",
    "This notebook shows a simple model able to improve the daily life of of many beekeepers.\n",
    "\n",
    "- **DATA:** all data are downloaded from Kaggle (https://www.kaggle.com/se18m502/bee-hive-metrics). In this project I use the data of humity, temperature and weight of the years 2017-2019 of two hives (from Wurzburg and Schwartau).\n",
    "\n",
    "- **AIM:** The aim of the project is to develop an algorithm able to predict the amount of honey produced by bee in a place in a week. \n",
    "\n",
    "- **WEEKLY DATA:** For each week we need the weather forecast for the next week.\n",
    "\n",
    "- **EVERY DAY LIFE:** In the every day life, the beekeeper should use this model to understand which is the best place to leave the hives for the next week. The output of the model is percentage amount of growth of honey in the following week given the weather previsions."
   ]
  },
  {
   "cell_type": "code",
   "execution_count": 1,
   "metadata": {},
   "outputs": [],
   "source": [
    "import numpy as np\n",
    "import pandas as pd"
   ]
  },
  {
   "cell_type": "code",
   "execution_count": 4,
   "metadata": {},
   "outputs": [],
   "source": [
    "# Read data (https://www.kaggle.com/se18m502/bee-hive-metrics))\n",
    "humidity_w = pd.read_csv(\"bee-hive-metrics/humidity_wurzburg.csv\")\n",
    "humidity_s = pd.read_csv(\"bee-hive-metrics/humidity_schwartau.csv\")\n",
    "temperature_w = pd.read_csv(\"bee-hive-metrics/temperature_wurzburg.csv\")\n",
    "temperature_s = pd.read_csv(\"bee-hive-metrics/temperature_schwartau.csv\")\n",
    "weight_w = pd.read_csv(\"bee-hive-metrics/weight_wurzburg.csv\")\n",
    "weight_s = pd.read_csv(\"bee-hive-metrics/weight_schwartau.csv\")"
   ]
  },
  {
   "cell_type": "markdown",
   "metadata": {},
   "source": [
    "## Preprocessing "
   ]
  },
  {
   "cell_type": "code",
   "execution_count": 8,
   "metadata": {},
   "outputs": [],
   "source": [
    "# This function trasforms the input data taking the min, max, and mean for each day \n",
    "def transform_df(df,col):\n",
    "    \"\"\"\n",
    "    This function transfom the data calculating the min, max and mean for \n",
    "    each day\n",
    "    Args:\n",
    "        df: dataframe to transform\n",
    "        col: column to group\n",
    "    Return:\n",
    "        Transformed dataframe\n",
    "    \"\"\"\n",
    "    df['timestamp'] = pd.to_datetime(df['timestamp'], format=\"%Y-%m-%d %H:%M:%S\")\n",
    "    df['day'] = df['timestamp'].apply(lambda x: x.day)\n",
    "    df['month'] = df['timestamp'].apply(lambda x: x.month)\n",
    "    df['year'] = df['timestamp'].apply(lambda x: x.year)    \n",
    "    df = df.groupby(['year','month','day']).agg({col:['min','max','mean']}).reset_index()\n",
    "    df.columns = df.columns.map('_'.join)\n",
    "    return df"
   ]
  },
  {
   "cell_type": "code",
   "execution_count": 6,
   "metadata": {},
   "outputs": [],
   "source": [
    "# Transfom all the dataframs\n",
    "hum_w = transform_df(humidity_w,'humidity')\n",
    "hum_s = transform_df(humidity_s,'humidity')\n",
    "tem_w = transform_df(temperature_w,'temperature')\n",
    "tem_s = transform_df(temperature_s,'temperature')\n",
    "wei_w = transform_df(weight_w,'weight')\n",
    "wei_s = transform_df(weight_s,'weight')"
   ]
  },
  {
   "cell_type": "code",
   "execution_count": 7,
   "metadata": {},
   "outputs": [],
   "source": [
    "# Merge all the data\n",
    "w_data = (hum_w\n",
    "          .merge(tem_w, on=['year_','month_','day_'])\n",
    "          .merge(wei_w, on=['year_','month_','day_'])\n",
    "          )\n",
    "s_data = (hum_s\n",
    "          .merge(tem_s, on=['year_','month_','day_'])\n",
    "          .merge(wei_s, on=['year_','month_','day_'])\n",
    "          )\n",
    "all_data = pd.concat([w_data,s_data]).reset_index(drop=True)"
   ]
  },
  {
   "cell_type": "code",
   "execution_count": 44,
   "metadata": {},
   "outputs": [],
   "source": [
    "# Here I create the dataset for training. The dataset takes 7 days of weather \n",
    "# information (humidity and temperature) more the months.  \n",
    "len_window = 7\n",
    "X =[]\n",
    "y = []\n",
    "for i in range(len(all_data)):\n",
    "    row_i = [all_data.loc[i,'month_']]\n",
    "    weight_i = all_data.loc[i,'weight_mean']\n",
    "    if i+len_window>len(all_data): break\n",
    "    for j in range(len_window):\n",
    "        row_i= row_i+[all_data.loc[i+j,'humidity_min'],\n",
    "                             all_data.loc[i+j,'humidity_max'],\n",
    "                             all_data.loc[i+j,'humidity_mean'],\n",
    "                             all_data.loc[i+j,'temperature_min'],\n",
    "                             all_data.loc[i+j,'temperature_max'],\n",
    "                             all_data.loc[i+j,'temperature_mean']]\n",
    "        if j == (len_window-1):\n",
    "            weight_f = all_data.loc[i+j,'weight_mean']\n",
    "            delta_weight = ((weight_f-weight_i)/weight_i)*100\n",
    "            if delta_weight>100: delta_weight=100.\n",
    "            if delta_weight<-100: delta_weight=-100.    \n",
    "            y.append(delta_weight)\n",
    "            X.append(row_i)\n",
    "data_model_full = pd.DataFrame(X)\n",
    "data_model_full['y'] = pd.Series(y)"
   ]
  },
  {
   "cell_type": "code",
   "execution_count": 45,
   "metadata": {},
   "outputs": [],
   "source": [
    "# Drop null values\n",
    "data_model_full = data_model_full.dropna()"
   ]
  },
  {
   "cell_type": "code",
   "execution_count": 46,
   "metadata": {},
   "outputs": [],
   "source": [
    "# Divide in features and target\n",
    "X = data_model_full.drop('y',axis=1)\n",
    "y = data_model_full['y']"
   ]
  },
  {
   "cell_type": "code",
   "execution_count": 47,
   "metadata": {},
   "outputs": [],
   "source": [
    "# Standard scalar for features\n",
    "from sklearn.preprocessing import StandardScaler\n",
    "sc = StandardScaler()\n",
    "X = sc.fit_transform(X)"
   ]
  },
  {
   "cell_type": "code",
   "execution_count": 48,
   "metadata": {},
   "outputs": [],
   "source": [
    "# Libraries of different models\n",
    "from sklearn.ensemble import GradientBoostingRegressor\n",
    "from sklearn.ensemble import RandomForestRegressor\n",
    "from sklearn.linear_model import LinearRegression\n",
    "from sklearn.model_selection import train_test_split\n",
    "from sklearn.model_selection import GridSearchCV"
   ]
  },
  {
   "cell_type": "code",
   "execution_count": 89,
   "metadata": {},
   "outputs": [],
   "source": [
    "# Divide in train and test set\n",
    "X_train, X_test, y_train, y_test = train_test_split(X, y, test_size=0.30, random_state=42)"
   ]
  },
  {
   "cell_type": "code",
   "execution_count": 50,
   "metadata": {},
   "outputs": [],
   "source": [
    "# Function for train and optimize the parameters of the a model\n",
    "def train_model(model,param,n_cv,X,y):\n",
    "    \"\"\"\n",
    "    This function train the model\n",
    "    Args:\n",
    "        model: sklearn model\n",
    "        param: dictionary with parameters for the Grid Search\n",
    "        n_cv: number of folds for the cross validation\n",
    "        X: features\n",
    "        y: target\n",
    "    Return:\n",
    "        Trained model\n",
    "    \"\"\"\n",
    "    gs = GridSearchCV(model, param,cv=n_cv,n_jobs=-1)\n",
    "    gs.fit(X,y)\n",
    "    return gs"
   ]
  },
  {
   "cell_type": "code",
   "execution_count": 9,
   "metadata": {},
   "outputs": [],
   "source": [
    "from sklearn.metrics import mean_squared_error\n",
    "def evaluate_regressor(model,y_true,y_pred):\n",
    "    \"\"\"\n",
    "    This function evaluates the regressor with the root mean square error\n",
    "    Args:\n",
    "        model: sklearn model to evaluate\n",
    "        y_true: true data\n",
    "        y_pred: predicted data\n",
    "    Return:\n",
    "        Root mean square error\n",
    "    \"\"\"\n",
    "    rmse = np.sqrt(mean_squared_error(y_true, y_pred))\n",
    "    return rmse     "
   ]
  },
  {
   "cell_type": "markdown",
   "metadata": {},
   "source": [
    "## Modelling"
   ]
  },
  {
   "cell_type": "code",
   "execution_count": 58,
   "metadata": {},
   "outputs": [
    {
     "name": "stdout",
     "output_type": "stream",
     "text": [
      "5.889004061231692 19.48160607547216\n"
     ]
    }
   ],
   "source": [
    "# Gradient Boosting\n",
    "gbr = GradientBoostingRegressor()\n",
    "parameters_gb ={\"learning_rate\":[0.1],\n",
    "                \"n_estimators\":[30],\n",
    "                \"min_samples_split\":[2,4,8],\n",
    "                \"min_samples_leaf\":[1,5],\n",
    "                \"max_depth\":[3,5,10]\n",
    "               }\n",
    "model = train_model(gbr,parameters_gb,5,X_train,y_train)\n",
    "y_pred_train = model.predict(X_train)\n",
    "y_pred_test = model.predict(X_test)\n",
    "rmse_train = evaluate_regressor(model,y_train,y_pred_train)\n",
    "rmse_test = evaluate_regressor(model,y_test,y_pred_test)\n",
    "print(rmse_train,rmse_test)"
   ]
  },
  {
   "cell_type": "code",
   "execution_count": 60,
   "metadata": {},
   "outputs": [
    {
     "name": "stdout",
     "output_type": "stream",
     "text": [
      "18.74510801988328 22.397383257269844\n"
     ]
    }
   ],
   "source": [
    "# Linear model\n",
    "from sklearn.linear_model import Ridge\n",
    "ridge = Ridge()\n",
    "parameters_ridge={\"alpha\":[1.0,1.2,0.5],\n",
    "               }\n",
    "model = train_model(ridge,parameters_ridge,5,X_train,y_train)\n",
    "y_pred_train = model.predict(X_train)\n",
    "y_pred_test = model.predict(X_test)\n",
    "rmse_train = evaluate_regressor(model,y_train,y_pred_train)\n",
    "rmse_test = evaluate_regressor(model,y_test,y_pred_test)\n",
    "print(rmse_train,rmse_test)"
   ]
  },
  {
   "cell_type": "code",
   "execution_count": 74,
   "metadata": {},
   "outputs": [
    {
     "name": "stdout",
     "output_type": "stream",
     "text": [
      "18.738081793640532 23.52098172104173\n"
     ]
    }
   ],
   "source": [
    "# Polynomial regression\n",
    "from sklearn.preprocessing import PolynomialFeatures\n",
    "from sklearn.linear_model import LinearRegression\n",
    "pol = PolynomialFeatures(degree=2)\n",
    "X_train_p = pol.fit_transform(X_train)\n",
    "X_test_p = pol.fit_transform(X_test)\n",
    "lm = LinearRegression()\n",
    "parameters_lm={}\n",
    "model = train_model(lm,parameters_lm,2,X_train,y_train)\n",
    "y_pred_train = model.predict(X_train)\n",
    "y_pred_test = model.predict(X_test)\n",
    "rmse_train = evaluate_regressor(model,y_train,y_pred_train)\n",
    "rmse_test = evaluate_regressor(model,y_test,y_pred_test)\n",
    "print(rmse_train,rmse_test)"
   ]
  },
  {
   "cell_type": "code",
   "execution_count": 84,
   "metadata": {},
   "outputs": [
    {
     "name": "stdout",
     "output_type": "stream",
     "text": [
      "6.68905257050331 18.1990438887684\n"
     ]
    }
   ],
   "source": [
    "# Random Forest\n",
    "rfr = RandomForestRegressor()\n",
    "parameters_rfr ={\"n_estimators\":[100],\n",
    "                \"min_samples_split\":[2,4,8],\n",
    "                \"min_samples_leaf\":[1,5],\n",
    "                \"max_depth\":[None,3,5],\n",
    "                 \"max_features\":[\"auto\",\"sqrt\",4,2],\n",
    "                 \"random_state\":[1029]\n",
    "               }\n",
    "model = train_model(rfr,parameters_rfr,7,X_train,y_train)\n",
    "y_pred_train = model.predict(X_train)\n",
    "y_pred_test = model.predict(X_test)\n",
    "rmse_train = evaluate_regressor(model,y_train,y_pred_train)\n",
    "rmse_test = evaluate_regressor(model,y_test,y_pred_test)\n",
    "print(rmse_train,rmse_test)"
   ]
  },
  {
   "cell_type": "code",
   "execution_count": 130,
   "metadata": {},
   "outputs": [
    {
     "data": {
      "text/plain": [
       "<seaborn.axisgrid.FacetGrid at 0x7efd7c1fb5e0>"
      ]
     },
     "execution_count": 130,
     "metadata": {},
     "output_type": "execute_result"
    },
    {
     "data": {
      "text/plain": [
       "<Figure size 1440x288 with 0 Axes>"
      ]
     },
     "metadata": {},
     "output_type": "display_data"
    },
    {
     "data": {
      "image/png": "[encoded data removed]",
      "text/plain": [
       "<Figure size 1080x360 with 1 Axes>"
      ]
     },
     "metadata": {
      "needs_background": "light"
     },
     "output_type": "display_data"
    }
   ],
   "source": [
    "\"\"\"\n",
    "The graph shows the concordance between the signal \n",
    "of the model and the real data. When both model and real\n",
    "data show an increase of honey in the next week the values is\n",
    "equal to 1. Instead when there is a divergence about the prevision \n",
    "and the reality the values are equal to -1.\n",
    "\"\"\"\n",
    "import seaborn as sns\n",
    "import matplotlib.pyplot as plt\n",
    "y_pred_test_series = pd.Series(y_pred_test)\n",
    "y_test_series = y_test.reset_index(drop=True)\n",
    "month = pd.Series(sc.inverse_transform(X_test)[:,0])\n",
    "df_predicted = pd.DataFrame()\n",
    "df_predicted[\"true\"] = y_test_series\n",
    "df_predicted[\"predicted\"] = y_pred_test\n",
    "df_predicted[\"month\"] = month\n",
    "df_predicted[\"signal\"] =  y_test_series*y_pred_test/abs(y_test_series*y_pred_test)\n",
    "df_predicted = df_predicted.sort_values(by=[\"month\"]).reset_index(drop=True)\n",
    "plt.figure(figsize=(20,4))\n",
    "sns.relplot(x='month', y='signal',\n",
    "            data=df_predicted,\n",
    "            kind=\"line\",\n",
    "            height=5,\n",
    "            aspect=3)"
   ]
  },
  {
   "cell_type": "markdown",
   "metadata": {},
   "source": [
    "## Conclusion\n",
    "From testing different models, the random forest is the best model with an $RMSE=18.2$. The graph shows a good accurance from October to July, while a bad accourance in August and September. I believe this fact is due to the usually human intervention done in the hives during this period."
   ]
  },
  {
   "cell_type": "code",
   "execution_count": null,
   "metadata": {},
   "outputs": [],
   "source": []
  }
 ],
 "metadata": {
  "kernelspec": {
   "display_name": "Python 3",
   "language": "python",
   "name": "python3"
  },
  "language_info": {
   "codemirror_mode": {
    "name": "ipython",
    "version": 3
   },
   "file_extension": ".py",
   "mimetype": "text/x-python",
   "name": "python",
   "nbconvert_exporter": "python",
   "pygments_lexer": "ipython3",
   "version": "3.8.1"
  }
 },
 "nbformat": 4,
 "nbformat_minor": 2
}
